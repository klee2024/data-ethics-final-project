{
 "cells": [
  {
   "cell_type": "code",
   "execution_count": 184,
   "metadata": {},
   "outputs": [],
   "source": [
    "import pandas as pd\n",
    "\n",
    "from PIL import Image\n",
    "#!pip install opencv-python\n",
    "from PIL import Image\n",
    "import collections\n",
    "import math"
   ]
  },
  {
   "cell_type": "code",
   "execution_count": 237,
   "metadata": {},
   "outputs": [],
   "source": [
    "def crop_image(og_image, DALLE_image):\n",
    "    \"\"\"\n",
    "    Crops the DALLE image according to the dimensions of the original image \n",
    "    Args: \n",
    "        og_image: filename of original image (assumed to be located in...)\n",
    "        DALLE_image: filename to DALLE_image (assumed to be located in...)\n",
    "\n",
    "    Returns: \n",
    "        path of new cropped DALLE image file \n",
    "\n",
    "    \"\"\"\n",
    "\n",
    "    # need to edit this based on file path stuff... \n",
    "    og_image_file = og_image\n",
    "    og_image = Image.open(og_image_file)\n",
    "\n",
    "    # Get dimensions of the original image\n",
    "    width_og, height_og = og_image.size\n",
    "\n",
    "    # need to edit this based on file path stuff... \n",
    "    og_image_file = DALLE_image\n",
    "    DALLE_image = Image.open(og_image_file)\n",
    "\n",
    "    # get dimensions of DALLE image\n",
    "    width, height = DALLE_image.size\n",
    "\n",
    "    # Calculate the dimensions for cropping\n",
    "    width_diff = width - width_og \n",
    "    height_diff = height - height_og \n",
    "    width_diff_one_side = width_diff / 2\n",
    "    height_diff_one_side = height_diff / 2\n",
    "    print(width_diff_one_side)\n",
    "    print(height_diff_one_side)\n",
    "\n",
    "    # Ensure the image is larger than the original image\n",
    "    if width_diff < 0 or height_diff < 0:\n",
    "        print(\"Error: Cropped area is larger than the original image.\")\n",
    "    else:\n",
    "        # calculate the cropping coordinates\n",
    "        left = width_diff_one_side\n",
    "        right = width - width_diff_one_side\n",
    "        top = height_diff_one_side\n",
    "        bottom = height -  height_diff_one_side\n",
    "\n",
    "        print(left, right, top, bottom)\n",
    "\n",
    "        # ensure that the images are the same size even if dimensions \n",
    "        # are an odd num \n",
    "        if (width_diff_one_side % 2 != 0):\n",
    "            math.floor(left)\n",
    "            math.floor(right)\n",
    "        if (height_diff_one_side % 2 != 0):\n",
    "            math.floor(bottom)\n",
    "            math.floor(top)\n",
    "\n",
    "        # perform the cropping\n",
    "        cropped_img = img.crop((left, top, right, bottom))\n",
    "        width, height = cropped_img.size\n",
    "    \n",
    "        # Display the cropped image\n",
    "        print(width, height)\n",
    "        cropped_img.save(\"cropped_image.jpg\")\n"
   ]
  },
  {
   "cell_type": "code",
   "execution_count": 238,
   "metadata": {},
   "outputs": [],
   "source": [
    "def get_image_pixels(image_file):\n",
    "    # Open the image\n",
    "    im = Image.open(image_file)\n",
    "\n",
    "    # Load pixel data\n",
    "    pix = im.load()\n",
    "\n",
    "    # Get the width and height of the image\n",
    "    width, height = im.size\n",
    "\n",
    "    # Create a 2D array to store pixel values\n",
    "    pixels_2d = [[0 for _ in range(width)] for _ in range(height)]\n",
    "\n",
    "    # Iterate over each pixel and store its RGBA values in the 2D array\n",
    "    for x in range(width):\n",
    "        for y in range(height):\n",
    "            pixels_2d[y][x] = pix[x, y]\n",
    "\n",
    "    return pixels_2d\n"
   ]
  },
  {
   "cell_type": "code",
   "execution_count": 3,
   "metadata": {},
   "outputs": [
    {
     "data": {
      "text/plain": [
       "'TRANSFORMED_DALLE_images/Adam_Koester_6_oval_DALLE_TRANSFORMED.jpg'"
      ]
     },
     "execution_count": 3,
     "metadata": {},
     "output_type": "execute_result"
    }
   ],
   "source": [
    "image_path = \"DALLE_images/Adam_Koester_6_oval_DALLE.jpg\"\n",
    "file_name = image_path.split(\"/\")[1]\n",
    "path = file_name.split(\".jpg\")\n",
    "transformed_image_path = \"TRANSFORMED_DALLE_images/\" + path[0] + \"_TRANSFORMED.jpg\"\n",
    "transformed_image_path"
   ]
  },
  {
   "cell_type": "code",
   "execution_count": 256,
   "metadata": {},
   "outputs": [],
   "source": [
    "def create_image_from_arr(image_path, pixels_2d):\n",
    "    # Assuming pixels_2d is your 2D array of pixels\n",
    "    # Example pixels_2d = [[(255, 255, 255), (0, 0, 0), ...], [...], ...]\n",
    "\n",
    "    # Assuming width and height are the dimensions of your image\n",
    "    width, height = len(pixels_2d[0]), len(pixels_2d)\n",
    "\n",
    "    # Create a new image\n",
    "    new_im = Image.new(\"RGB\", (width, height))\n",
    "\n",
    "    # Load pixel data\n",
    "    pix = new_im.load()\n",
    "\n",
    "    # Set pixel values\n",
    "    for x in range(width):\n",
    "        for y in range(height):\n",
    "            pix[x, y] = pixels_2d[y][x]\n",
    "\n",
    "    # Save the image to a file\n",
    "    path = image_path.split(\".jpg\")\n",
    "    transformed_image_path = path[0] + \"_TRANSFORMED.jpg\"\n",
    "    new_im.save(transformed_image_path)  # Change the filename and extension as needed\n",
    "    return transformed_image_path"
   ]
  },
  {
   "cell_type": "code",
   "execution_count": 257,
   "metadata": {},
   "outputs": [],
   "source": [
    "def get_oval(og_image_file, AI_image_file):\n",
    "    \"\"\"\n",
    "    Uses breadth-first search to identify the white oval frame in the og image and apply it to the AI generated image\n",
    "    og_image_file, AI_image_file\n",
    "    \"\"\"\n",
    "\n",
    "    # getting the 2d array of pixels from each image\n",
    "    og_image_pixels = get_image_pixels(og_image_file)\n",
    "    AI_image_pixels = get_image_pixels(AI_image_file)\n",
    "\n",
    "    rows, cols = len(og_image_pixels), len(og_image_pixels[0])\n",
    "    rows1, cols1 = len(AI_image_pixels), len(AI_image_pixels[1])\n",
    "    \n",
    "    visited = set()\n",
    "\n",
    "    def bfs(r, c):\n",
    "        q = collections.deque()\n",
    "        visited.add((r, c))\n",
    "        q.append((r, c))\n",
    "\n",
    "        while q:\n",
    "            row, col = q.popleft()\n",
    "            directions = [[1, 0], [-1, 0], [0, 1], [0, -1]]\n",
    "\n",
    "            for dr, dc in directions:\n",
    "                r, c = row + dr, col + dc\n",
    "                if (r in range(rows) \n",
    "                    and c in range(cols) \n",
    "                    and og_image_pixels[r][c] == (255, 255, 255)\n",
    "                    and (r, c) not in visited):\n",
    "                    q.append((r, c))\n",
    "                    visited.add((r, c))\n",
    "                    AI_image_pixels[r][c] = (255, 255, 255)\n",
    "\n",
    "    # breadth first search starting from the corners of the image (to capture the oval)\n",
    "    bfs(0, 0)\n",
    "    bfs(rows - 1, 0)\n",
    "    bfs(0, cols - 1)\n",
    "    bfs(rows - 1, cols - 1)\n",
    "    output_image_path = create_image_from_arr(AI_image_file, AI_image_pixels)\n",
    "    return output_image_path\n",
    "\n",
    "\n",
    "    "
   ]
  },
  {
   "cell_type": "code",
   "execution_count": 258,
   "metadata": {},
   "outputs": [
    {
     "data": {
      "text/plain": [
       "'cropped_image_TRANSFORMED.jpg'"
      ]
     },
     "execution_count": 258,
     "metadata": {},
     "output_type": "execute_result"
    }
   ],
   "source": [
    "get_oval(\"testing_image.jpg\", \"cropped_image.jpg\")"
   ]
  },
  {
   "cell_type": "code",
   "execution_count": null,
   "metadata": {},
   "outputs": [],
   "source": []
  }
 ],
 "metadata": {
  "kernelspec": {
   "display_name": "base",
   "language": "python",
   "name": "python3"
  },
  "language_info": {
   "codemirror_mode": {
    "name": "ipython",
    "version": 3
   },
   "file_extension": ".py",
   "mimetype": "text/x-python",
   "name": "python",
   "nbconvert_exporter": "python",
   "pygments_lexer": "ipython3",
   "version": "3.9.7"
  }
 },
 "nbformat": 4,
 "nbformat_minor": 2
}
