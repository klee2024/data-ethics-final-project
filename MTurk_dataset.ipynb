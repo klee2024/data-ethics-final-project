{
 "cells": [
  {
   "cell_type": "markdown",
   "metadata": {},
   "source": [
    "# MTurk Dataset Collection"
   ]
  },
  {
   "cell_type": "markdown",
   "metadata": {},
   "source": [
    "This notebook contains the pipeline for our MTurk dataset collection process. It includes initial EDA for our testing dataset, which is ~2.2k faces from the 10k dataset that have corresponding demographic attributes. Each row corresponds to an MTurk participants responses regarding the attribute questions, and there are approximately 12 responses for each unique image  **add on as we go**"
   ]
  },
  {
   "cell_type": "markdown",
   "metadata": {},
   "source": [
    "### imports"
   ]
  },
  {
   "cell_type": "code",
   "execution_count": 26,
   "metadata": {},
   "outputs": [],
   "source": [
    "import pandas as pd\n",
    "from statistics import mode\n",
    "import shutil\n",
    "import os"
   ]
  },
  {
   "cell_type": "markdown",
   "metadata": {},
   "source": [
    "## 2.2k face dataset EDA & Cleaning"
   ]
  },
  {
   "cell_type": "code",
   "execution_count": 2,
   "metadata": {},
   "outputs": [
    {
     "data": {
      "text/html": [
       "<div>\n",
       "<style scoped>\n",
       "    .dataframe tbody tr th:only-of-type {\n",
       "        vertical-align: middle;\n",
       "    }\n",
       "\n",
       "    .dataframe tbody tr th {\n",
       "        vertical-align: top;\n",
       "    }\n",
       "\n",
       "    .dataframe thead th {\n",
       "        text-align: right;\n",
       "    }\n",
       "</style>\n",
       "<table border=\"1\" class=\"dataframe\">\n",
       "  <thead>\n",
       "    <tr style=\"text-align: right;\">\n",
       "      <th></th>\n",
       "      <th>Filename</th>\n",
       "      <th>Image #</th>\n",
       "      <th>Age</th>\n",
       "      <th>Attractive</th>\n",
       "      <th>Is this person famous?</th>\n",
       "      <th>Common?</th>\n",
       "      <th>How much emotion is in this face?</th>\n",
       "      <th>Emotion?</th>\n",
       "      <th>Eyes direction?</th>\n",
       "      <th>Face direction?</th>\n",
       "      <th>...</th>\n",
       "      <th>Friendly</th>\n",
       "      <th>Makeup?</th>\n",
       "      <th>Gender</th>\n",
       "      <th>Would you cast this person as the star of a movie?</th>\n",
       "      <th>Would this be a good profile picture?</th>\n",
       "      <th>Image quality</th>\n",
       "      <th>Race</th>\n",
       "      <th>Memorable</th>\n",
       "      <th>At what speed do you think this expression is happening?</th>\n",
       "      <th>How much teeth is showing?</th>\n",
       "    </tr>\n",
       "  </thead>\n",
       "  <tbody>\n",
       "    <tr>\n",
       "      <th>0</th>\n",
       "      <td>Google_1_Danielle Goble_5_oval.jpg</td>\n",
       "      <td>1</td>\n",
       "      <td>3.0</td>\n",
       "      <td>5.0</td>\n",
       "      <td>0.0</td>\n",
       "      <td>2.0</td>\n",
       "      <td>2.0</td>\n",
       "      <td>0.0</td>\n",
       "      <td>1.0</td>\n",
       "      <td>1.0</td>\n",
       "      <td>...</td>\n",
       "      <td>4.0</td>\n",
       "      <td>0.0</td>\n",
       "      <td>1.0</td>\n",
       "      <td>2.0</td>\n",
       "      <td>2.0</td>\n",
       "      <td>5.0</td>\n",
       "      <td>6.0</td>\n",
       "      <td>5.0</td>\n",
       "      <td>1.0</td>\n",
       "      <td>0.0</td>\n",
       "    </tr>\n",
       "    <tr>\n",
       "      <th>1</th>\n",
       "      <td>Google_1_Danielle Goble_5_oval.jpg</td>\n",
       "      <td>1</td>\n",
       "      <td>2.0</td>\n",
       "      <td>3.0</td>\n",
       "      <td>0.0</td>\n",
       "      <td>2.0</td>\n",
       "      <td>3.0</td>\n",
       "      <td>1.0</td>\n",
       "      <td>1.0</td>\n",
       "      <td>4.0</td>\n",
       "      <td>...</td>\n",
       "      <td>4.0</td>\n",
       "      <td>0.0</td>\n",
       "      <td>1.0</td>\n",
       "      <td>1.0</td>\n",
       "      <td>2.0</td>\n",
       "      <td>5.0</td>\n",
       "      <td>1.0</td>\n",
       "      <td>4.0</td>\n",
       "      <td>3.0</td>\n",
       "      <td>0.0</td>\n",
       "    </tr>\n",
       "    <tr>\n",
       "      <th>2</th>\n",
       "      <td>Google_1_Danielle Goble_5_oval.jpg</td>\n",
       "      <td>1</td>\n",
       "      <td>3.0</td>\n",
       "      <td>3.0</td>\n",
       "      <td>0.0</td>\n",
       "      <td>4.0</td>\n",
       "      <td>1.0</td>\n",
       "      <td>6.0</td>\n",
       "      <td>1.0</td>\n",
       "      <td>5.0</td>\n",
       "      <td>...</td>\n",
       "      <td>5.0</td>\n",
       "      <td>0.0</td>\n",
       "      <td>1.0</td>\n",
       "      <td>1.0</td>\n",
       "      <td>2.0</td>\n",
       "      <td>5.0</td>\n",
       "      <td>5.0</td>\n",
       "      <td>5.0</td>\n",
       "      <td>5.0</td>\n",
       "      <td>0.0</td>\n",
       "    </tr>\n",
       "    <tr>\n",
       "      <th>3</th>\n",
       "      <td>Google_1_Danielle Goble_5_oval.jpg</td>\n",
       "      <td>1</td>\n",
       "      <td>3.0</td>\n",
       "      <td>4.0</td>\n",
       "      <td>0.0</td>\n",
       "      <td>2.0</td>\n",
       "      <td>2.0</td>\n",
       "      <td>0.0</td>\n",
       "      <td>1.0</td>\n",
       "      <td>4.0</td>\n",
       "      <td>...</td>\n",
       "      <td>3.0</td>\n",
       "      <td>0.0</td>\n",
       "      <td>1.0</td>\n",
       "      <td>1.0</td>\n",
       "      <td>1.0</td>\n",
       "      <td>3.0</td>\n",
       "      <td>1.0</td>\n",
       "      <td>4.0</td>\n",
       "      <td>3.0</td>\n",
       "      <td>0.0</td>\n",
       "    </tr>\n",
       "    <tr>\n",
       "      <th>4</th>\n",
       "      <td>Google_1_Danielle Goble_5_oval.jpg</td>\n",
       "      <td>1</td>\n",
       "      <td>3.0</td>\n",
       "      <td>2.0</td>\n",
       "      <td>1.0</td>\n",
       "      <td>3.0</td>\n",
       "      <td>4.0</td>\n",
       "      <td>1.0</td>\n",
       "      <td>1.0</td>\n",
       "      <td>1.0</td>\n",
       "      <td>...</td>\n",
       "      <td>3.0</td>\n",
       "      <td>0.0</td>\n",
       "      <td>1.0</td>\n",
       "      <td>1.0</td>\n",
       "      <td>1.0</td>\n",
       "      <td>3.0</td>\n",
       "      <td>1.0</td>\n",
       "      <td>3.0</td>\n",
       "      <td>3.0</td>\n",
       "      <td>0.0</td>\n",
       "    </tr>\n",
       "    <tr>\n",
       "      <th>...</th>\n",
       "      <td>...</td>\n",
       "      <td>...</td>\n",
       "      <td>...</td>\n",
       "      <td>...</td>\n",
       "      <td>...</td>\n",
       "      <td>...</td>\n",
       "      <td>...</td>\n",
       "      <td>...</td>\n",
       "      <td>...</td>\n",
       "      <td>...</td>\n",
       "      <td>...</td>\n",
       "      <td>...</td>\n",
       "      <td>...</td>\n",
       "      <td>...</td>\n",
       "      <td>...</td>\n",
       "      <td>...</td>\n",
       "      <td>...</td>\n",
       "      <td>...</td>\n",
       "      <td>...</td>\n",
       "      <td>...</td>\n",
       "      <td>...</td>\n",
       "    </tr>\n",
       "    <tr>\n",
       "      <th>26658</th>\n",
       "      <td>Google_1_Eileen Burd_7_oval.jpg</td>\n",
       "      <td>2222</td>\n",
       "      <td>3.0</td>\n",
       "      <td>3.0</td>\n",
       "      <td>0.0</td>\n",
       "      <td>5.0</td>\n",
       "      <td>3.0</td>\n",
       "      <td>1.0</td>\n",
       "      <td>1.0</td>\n",
       "      <td>1.0</td>\n",
       "      <td>...</td>\n",
       "      <td>4.0</td>\n",
       "      <td>1.0</td>\n",
       "      <td>0.0</td>\n",
       "      <td>0.0</td>\n",
       "      <td>2.0</td>\n",
       "      <td>4.0</td>\n",
       "      <td>1.0</td>\n",
       "      <td>3.0</td>\n",
       "      <td>4.0</td>\n",
       "      <td>1.0</td>\n",
       "    </tr>\n",
       "    <tr>\n",
       "      <th>26659</th>\n",
       "      <td>Google_1_Eileen Burd_7_oval.jpg</td>\n",
       "      <td>2222</td>\n",
       "      <td>3.0</td>\n",
       "      <td>3.0</td>\n",
       "      <td>0.0</td>\n",
       "      <td>4.0</td>\n",
       "      <td>3.0</td>\n",
       "      <td>1.0</td>\n",
       "      <td>1.0</td>\n",
       "      <td>1.0</td>\n",
       "      <td>...</td>\n",
       "      <td>4.0</td>\n",
       "      <td>2.0</td>\n",
       "      <td>0.0</td>\n",
       "      <td>0.0</td>\n",
       "      <td>2.0</td>\n",
       "      <td>2.0</td>\n",
       "      <td>1.0</td>\n",
       "      <td>2.0</td>\n",
       "      <td>3.0</td>\n",
       "      <td>1.0</td>\n",
       "    </tr>\n",
       "    <tr>\n",
       "      <th>26660</th>\n",
       "      <td>Google_1_Eileen Burd_7_oval.jpg</td>\n",
       "      <td>2222</td>\n",
       "      <td>3.0</td>\n",
       "      <td>2.0</td>\n",
       "      <td>0.0</td>\n",
       "      <td>4.0</td>\n",
       "      <td>3.0</td>\n",
       "      <td>1.0</td>\n",
       "      <td>1.0</td>\n",
       "      <td>1.0</td>\n",
       "      <td>...</td>\n",
       "      <td>3.0</td>\n",
       "      <td>0.0</td>\n",
       "      <td>0.0</td>\n",
       "      <td>0.0</td>\n",
       "      <td>1.0</td>\n",
       "      <td>3.0</td>\n",
       "      <td>1.0</td>\n",
       "      <td>2.0</td>\n",
       "      <td>3.0</td>\n",
       "      <td>1.0</td>\n",
       "    </tr>\n",
       "    <tr>\n",
       "      <th>26661</th>\n",
       "      <td>Google_1_Eileen Burd_7_oval.jpg</td>\n",
       "      <td>2222</td>\n",
       "      <td>3.0</td>\n",
       "      <td>3.0</td>\n",
       "      <td>0.0</td>\n",
       "      <td>5.0</td>\n",
       "      <td>3.0</td>\n",
       "      <td>1.0</td>\n",
       "      <td>1.0</td>\n",
       "      <td>1.0</td>\n",
       "      <td>...</td>\n",
       "      <td>3.0</td>\n",
       "      <td>0.0</td>\n",
       "      <td>0.0</td>\n",
       "      <td>0.0</td>\n",
       "      <td>1.0</td>\n",
       "      <td>3.0</td>\n",
       "      <td>1.0</td>\n",
       "      <td>3.0</td>\n",
       "      <td>2.0</td>\n",
       "      <td>1.0</td>\n",
       "    </tr>\n",
       "    <tr>\n",
       "      <th>26662</th>\n",
       "      <td>Google_1_Eileen Burd_7_oval.jpg</td>\n",
       "      <td>2222</td>\n",
       "      <td>3.0</td>\n",
       "      <td>3.0</td>\n",
       "      <td>1.0</td>\n",
       "      <td>4.0</td>\n",
       "      <td>3.0</td>\n",
       "      <td>1.0</td>\n",
       "      <td>1.0</td>\n",
       "      <td>1.0</td>\n",
       "      <td>...</td>\n",
       "      <td>3.0</td>\n",
       "      <td>0.0</td>\n",
       "      <td>0.0</td>\n",
       "      <td>1.0</td>\n",
       "      <td>1.0</td>\n",
       "      <td>3.0</td>\n",
       "      <td>1.0</td>\n",
       "      <td>4.0</td>\n",
       "      <td>3.0</td>\n",
       "      <td>1.0</td>\n",
       "    </tr>\n",
       "  </tbody>\n",
       "</table>\n",
       "<p>26663 rows × 22 columns</p>\n",
       "</div>"
      ],
      "text/plain": [
       "                                 Filename  Image #  Age  Attractive  \\\n",
       "0      Google_1_Danielle Goble_5_oval.jpg        1  3.0         5.0   \n",
       "1      Google_1_Danielle Goble_5_oval.jpg        1  2.0         3.0   \n",
       "2      Google_1_Danielle Goble_5_oval.jpg        1  3.0         3.0   \n",
       "3      Google_1_Danielle Goble_5_oval.jpg        1  3.0         4.0   \n",
       "4      Google_1_Danielle Goble_5_oval.jpg        1  3.0         2.0   \n",
       "...                                   ...      ...  ...         ...   \n",
       "26658     Google_1_Eileen Burd_7_oval.jpg     2222  3.0         3.0   \n",
       "26659     Google_1_Eileen Burd_7_oval.jpg     2222  3.0         3.0   \n",
       "26660     Google_1_Eileen Burd_7_oval.jpg     2222  3.0         2.0   \n",
       "26661     Google_1_Eileen Burd_7_oval.jpg     2222  3.0         3.0   \n",
       "26662     Google_1_Eileen Burd_7_oval.jpg     2222  3.0         3.0   \n",
       "\n",
       "       Is this person famous?  Common?  How much emotion is in this face?  \\\n",
       "0                         0.0      2.0                                2.0   \n",
       "1                         0.0      2.0                                3.0   \n",
       "2                         0.0      4.0                                1.0   \n",
       "3                         0.0      2.0                                2.0   \n",
       "4                         1.0      3.0                                4.0   \n",
       "...                       ...      ...                                ...   \n",
       "26658                     0.0      5.0                                3.0   \n",
       "26659                     0.0      4.0                                3.0   \n",
       "26660                     0.0      4.0                                3.0   \n",
       "26661                     0.0      5.0                                3.0   \n",
       "26662                     1.0      4.0                                3.0   \n",
       "\n",
       "       Emotion?  Eyes direction?  Face direction?  ...  Friendly  Makeup?  \\\n",
       "0           0.0              1.0              1.0  ...       4.0      0.0   \n",
       "1           1.0              1.0              4.0  ...       4.0      0.0   \n",
       "2           6.0              1.0              5.0  ...       5.0      0.0   \n",
       "3           0.0              1.0              4.0  ...       3.0      0.0   \n",
       "4           1.0              1.0              1.0  ...       3.0      0.0   \n",
       "...         ...              ...              ...  ...       ...      ...   \n",
       "26658       1.0              1.0              1.0  ...       4.0      1.0   \n",
       "26659       1.0              1.0              1.0  ...       4.0      2.0   \n",
       "26660       1.0              1.0              1.0  ...       3.0      0.0   \n",
       "26661       1.0              1.0              1.0  ...       3.0      0.0   \n",
       "26662       1.0              1.0              1.0  ...       3.0      0.0   \n",
       "\n",
       "       Gender  Would you cast this person as the star of a movie?  \\\n",
       "0         1.0                                                2.0    \n",
       "1         1.0                                                1.0    \n",
       "2         1.0                                                1.0    \n",
       "3         1.0                                                1.0    \n",
       "4         1.0                                                1.0    \n",
       "...       ...                                                ...    \n",
       "26658     0.0                                                0.0    \n",
       "26659     0.0                                                0.0    \n",
       "26660     0.0                                                0.0    \n",
       "26661     0.0                                                0.0    \n",
       "26662     0.0                                                1.0    \n",
       "\n",
       "       Would this be a good profile picture?  Image quality  Race  Memorable  \\\n",
       "0                                        2.0            5.0   6.0        5.0   \n",
       "1                                        2.0            5.0   1.0        4.0   \n",
       "2                                        2.0            5.0   5.0        5.0   \n",
       "3                                        1.0            3.0   1.0        4.0   \n",
       "4                                        1.0            3.0   1.0        3.0   \n",
       "...                                      ...            ...   ...        ...   \n",
       "26658                                    2.0            4.0   1.0        3.0   \n",
       "26659                                    2.0            2.0   1.0        2.0   \n",
       "26660                                    1.0            3.0   1.0        2.0   \n",
       "26661                                    1.0            3.0   1.0        3.0   \n",
       "26662                                    1.0            3.0   1.0        4.0   \n",
       "\n",
       "       At what speed do you think this expression is happening?  \\\n",
       "0                                                    1.0          \n",
       "1                                                    3.0          \n",
       "2                                                    5.0          \n",
       "3                                                    3.0          \n",
       "4                                                    3.0          \n",
       "...                                                  ...          \n",
       "26658                                                4.0          \n",
       "26659                                                3.0          \n",
       "26660                                                3.0          \n",
       "26661                                                2.0          \n",
       "26662                                                3.0          \n",
       "\n",
       "       How much teeth is showing?  \n",
       "0                             0.0  \n",
       "1                             0.0  \n",
       "2                             0.0  \n",
       "3                             0.0  \n",
       "4                             0.0  \n",
       "...                           ...  \n",
       "26658                         1.0  \n",
       "26659                         1.0  \n",
       "26660                         1.0  \n",
       "26661                         1.0  \n",
       "26662                         1.0  \n",
       "\n",
       "[26663 rows x 22 columns]"
      ]
     },
     "execution_count": 2,
     "metadata": {},
     "output_type": "execute_result"
    }
   ],
   "source": [
    "attribute_df = pd.read_csv(\"demographic-others-labels.csv\")\n",
    "attribute_df"
   ]
  },
  {
   "cell_type": "code",
   "execution_count": 3,
   "metadata": {},
   "outputs": [
    {
     "data": {
      "text/plain": [
       "Race\n",
       "1.0    20984\n",
       "2.0     2593\n",
       "5.0     1262\n",
       "3.0      664\n",
       "6.0      501\n",
       "4.0      371\n",
       "0.0      276\n",
       "Name: count, dtype: int64"
      ]
     },
     "execution_count": 3,
     "metadata": {},
     "output_type": "execute_result"
    }
   ],
   "source": [
    "# we want to see the race breakdown in the 2.2k face dataset \n",
    "attribute_df[\"Race\"].value_counts()"
   ]
  },
  {
   "cell_type": "code",
   "execution_count": 4,
   "metadata": {},
   "outputs": [],
   "source": [
    "# we're imputing the mode to find the most frequent response for each attribute for image file \n",
    "# out of the 12 participant responses (grouping by image file)\n",
    "mode_per_filename = attribute_df.groupby(\"Filename\").apply(lambda x: x.mode())"
   ]
  },
  {
   "cell_type": "code",
   "execution_count": 5,
   "metadata": {},
   "outputs": [],
   "source": [
    "mode_per_filename = mode_per_filename.dropna()"
   ]
  },
  {
   "cell_type": "code",
   "execution_count": 6,
   "metadata": {},
   "outputs": [
    {
     "data": {
      "text/plain": [
       "2222"
      ]
     },
     "execution_count": 6,
     "metadata": {},
     "output_type": "execute_result"
    }
   ],
   "source": [
    "len(mode_per_filename)"
   ]
  },
  {
   "cell_type": "code",
   "execution_count": 7,
   "metadata": {},
   "outputs": [
    {
     "data": {
      "text/plain": [
       "Race\n",
       "1.0    1836\n",
       "2.0     220\n",
       "5.0      72\n",
       "3.0      63\n",
       "6.0      24\n",
       "4.0       5\n",
       "0.0       2\n",
       "Name: count, dtype: int64"
      ]
     },
     "execution_count": 7,
     "metadata": {},
     "output_type": "execute_result"
    }
   ],
   "source": [
    "mode_per_filename[\"Race\"].value_counts()"
   ]
  },
  {
   "cell_type": "code",
   "execution_count": 8,
   "metadata": {},
   "outputs": [
    {
     "data": {
      "text/plain": [
       "Race\n",
       "1.0    0.826283\n",
       "2.0    0.099010\n",
       "5.0    0.032403\n",
       "3.0    0.028353\n",
       "6.0    0.010801\n",
       "4.0    0.002250\n",
       "0.0    0.000900\n",
       "Name: count, dtype: float64"
      ]
     },
     "execution_count": 8,
     "metadata": {},
     "output_type": "execute_result"
    }
   ],
   "source": [
    "mode_per_filename[\"Race\"].value_counts() / len(mode_per_filename)"
   ]
  },
  {
   "cell_type": "markdown",
   "metadata": {},
   "source": [
    "Based on unique images, whites account for 82.63% of the data. "
   ]
  },
  {
   "cell_type": "markdown",
   "metadata": {},
   "source": [
    "Further, we are combining the South Asian (4) and East Asian (3) categories into \"Asian (South or East)\" since the sample size of South Asians is too small for proper analysis. Additionally, we are dropping the rows corresponding to \"Other\" since they account for less than 10% of the dataset. "
   ]
  },
  {
   "cell_type": "code",
   "execution_count": 9,
   "metadata": {},
   "outputs": [
    {
     "name": "stdout",
     "output_type": "stream",
     "text": [
      "files to drop:  ['Google_1_Clarence Morehouse_8_oval.jpg'\n",
      " 'Google_1_Steven Mahan_1_oval.jpg']\n"
     ]
    }
   ],
   "source": [
    "files_to_drop = mode_per_filename[mode_per_filename[\"Race\"] == 0.0][\"Filename\"].values\n",
    "print(\"files to drop: \", files_to_drop)"
   ]
  },
  {
   "cell_type": "code",
   "execution_count": 10,
   "metadata": {},
   "outputs": [],
   "source": [
    "# combining East Asian and South Asian into \"Asian (South or East)\"\n",
    "mode_per_filename.loc[mode_per_filename[\"Race\"] == 4.0, \"Race\"] = 3.0\n",
    "mode_per_filename.loc[mode_per_filename[\"Race\"] == 4.0]\n",
    "\n",
    "#Drop other\n",
    "rows_to_drop = mode_per_filename[mode_per_filename[\"Race\"] == 0.0].index\n",
    "mode_per_filename = mode_per_filename.drop(rows_to_drop)"
   ]
  },
  {
   "cell_type": "code",
   "execution_count": 11,
   "metadata": {},
   "outputs": [
    {
     "data": {
      "text/plain": [
       "Race\n",
       "1.0    1836\n",
       "2.0     220\n",
       "5.0      72\n",
       "3.0      68\n",
       "6.0      24\n",
       "Name: count, dtype: int64"
      ]
     },
     "execution_count": 11,
     "metadata": {},
     "output_type": "execute_result"
    }
   ],
   "source": [
    "mode_per_filename[\"Race\"].value_counts()"
   ]
  },
  {
   "cell_type": "code",
   "execution_count": 19,
   "metadata": {},
   "outputs": [
    {
     "data": {
      "text/plain": [
       "2"
      ]
     },
     "execution_count": 19,
     "metadata": {},
     "output_type": "execute_result"
    }
   ],
   "source": [
    "# removing the images that corresponds to the images to drop \n",
    "\n",
    "len(files_to_drop )"
   ]
  },
  {
   "cell_type": "code",
   "execution_count": 20,
   "metadata": {},
   "outputs": [],
   "source": [
    "def image_file_names_2k(input_file, lines_to_remove):\n",
    "    files = []\n",
    "    with open(input_file, 'r') as file:\n",
    "        lines = file.readlines()\n",
    "        for line in lines:\n",
    "            if line.strip() not in lines_to_remove:\n",
    "                files.append(line)\n",
    "    return files\n"
   ]
  },
  {
   "cell_type": "code",
   "execution_count": 21,
   "metadata": {},
   "outputs": [],
   "source": [
    "image_files = image_file_names_2k(\"target-filenames.txt\", files_to_drop)"
   ]
  },
  {
   "cell_type": "code",
   "execution_count": 23,
   "metadata": {},
   "outputs": [
    {
     "data": {
      "text/plain": [
       "2222"
      ]
     },
     "execution_count": 23,
     "metadata": {},
     "output_type": "execute_result"
    }
   ],
   "source": [
    "len(image_files)"
   ]
  },
  {
   "cell_type": "code",
   "execution_count": 30,
   "metadata": {},
   "outputs": [
    {
     "data": {
      "text/plain": [
       "Index(['Filename', 'Image #', 'Age', 'Attractive', 'Is this person famous?',\n",
       "       'Common?', 'How much emotion is in this face?', 'Emotion?',\n",
       "       'Eyes direction?', 'Face direction?', 'Facial hair?', 'Catch question',\n",
       "       'Friendly', 'Makeup?', 'Gender',\n",
       "       'Would you cast this person as the star of a movie?',\n",
       "       'Would this be a good profile picture?', 'Image quality', 'Race',\n",
       "       'Memorable', 'At what speed do you think this expression is happening?',\n",
       "       'How much teeth is showing?'],\n",
       "      dtype='object')"
      ]
     },
     "execution_count": 30,
     "metadata": {},
     "output_type": "execute_result"
    }
   ],
   "source": [
    "mode_per_filename.columns"
   ]
  },
  {
   "cell_type": "code",
   "execution_count": 33,
   "metadata": {},
   "outputs": [
    {
     "data": {
      "text/plain": [
       "1816"
      ]
     },
     "execution_count": 33,
     "metadata": {},
     "output_type": "execute_result"
    }
   ],
   "source": [
    "#Extract images where face direction is looking straightforward\n",
    "\n",
    "df_forward_facing_images = mode_per_filename.copy()\n",
    "\n",
    "df_forward_facing_images = mode_per_filename.loc[mode_per_filename[\"Face direction?\"] == 1.0]\n",
    "df_forward_facing_images[\"Race\"].value_counts() / len(df_forward_facing_images)\n",
    "len(df_forward_facing_images)"
   ]
  },
  {
   "cell_type": "code",
   "execution_count": 34,
   "metadata": {},
   "outputs": [],
   "source": [
    "\n",
    "#Extract images from dataframe\n",
    "\n",
    "source_folder = 'Face Images'  # Folder with original 10K face dataset\n",
    "target_folder = 'MTurk Images Face Forward'  # Folder that contains the 2,200 annotated images\n",
    "\n",
    "\n",
    "for index, row in df_forward_facing_images.iterrows(): # iterate through each row of the dataframe\n",
    "\n",
    "    image_file_name = row['Filename']\n",
    "    source_path = os.path.join(source_folder, image_file_name) #uses image file name to create full path to the original file\n",
    "    target_path = os.path.join(target_folder, image_file_name) #creates full path to the target location where the image file will be copied\n",
    "    \n",
    "    \n",
    "    shutil.copyfile(source_path, target_path) #copies the content of the source file to the target file\n",
    "\n"
   ]
  }
 ],
 "metadata": {
  "kernelspec": {
   "display_name": "Python 3",
   "language": "python",
   "name": "python3"
  },
  "language_info": {
   "codemirror_mode": {
    "name": "ipython",
    "version": 3
   },
   "file_extension": ".py",
   "mimetype": "text/x-python",
   "name": "python",
   "nbconvert_exporter": "python",
   "pygments_lexer": "ipython3",
   "version": "3.9.12"
  }
 },
 "nbformat": 4,
 "nbformat_minor": 2
}
