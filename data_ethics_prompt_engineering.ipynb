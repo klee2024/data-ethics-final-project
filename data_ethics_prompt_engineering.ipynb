{
 "cells": [
  {
   "cell_type": "markdown",
   "metadata": {},
   "source": [
    "# Imports #"
   ]
  },
  {
   "cell_type": "code",
   "execution_count": null,
   "metadata": {},
   "outputs": [],
   "source": [
    "import pandas as pd\n",
    "from openai import OpenAI\n"
   ]
  },
  {
   "cell_type": "code",
   "execution_count": null,
   "metadata": {},
   "outputs": [],
   "source": [
    "#Read dataset of Mturk Image Responses\n",
    "\n",
    "data = pd.read_csv(\"example.csv\")\n",
    "\n",
    "#Iterate over each row of the dataset\n",
    "\n",
    "gpt_user_prompts = []\n",
    "\n",
    "for index, row in data.iterrows():\n",
    "    gpt_user_prompts += f\"Generate a realistic face with the following attributes:\\n\\\n",
    "- Gender: {row['Gender']}\\n\\\n",
    "- Age: {row['Age']}\\n\\\n",
    "- Skin Color: {row['Skin Color']}\\n\\\n",
    "- Hair: {row['Hair']}\\n\\\n",
    "- Eyebrows: {row['Eyebrows']}\\n\\\n",
    "- Eyes: {row['Eyes']}\\n\\\n",
    "- Nose: {row['Nose']}\\n\\\n",
    "- Jaw: {row['Jaw']}\\n\\\n",
    "- Beard: {row['Beard']}\\n\\\n",
    "- Additional Information: {row['Additional Information']}\"\n",
    "\n"
   ]
  },
  {
   "cell_type": "code",
   "execution_count": null,
   "metadata": {},
   "outputs": [],
   "source": [
    "\n",
    "client = OpenAI()\n",
    "\n",
    "#Create list containing URLs for images\n",
    "image_urls = []\n",
    "\n",
    "#For loop to generate image for each user prompt\n",
    "for gpt_user_prompt in gpt_user_prompts:\n",
    "  response = client.images.generate(\n",
    "    model=\"dall-e-3\",\n",
    "    prompt= gpt_user_prompt,\n",
    "    size=\"1024x1024\",\n",
    "    quality=\"standard\",\n",
    "    n=1,\n",
    "  )\n",
    "\n",
    "  image_urls += response.data[0].url\n",
    "\n"
   ]
  }
 ],
 "metadata": {
  "language_info": {
   "name": "python"
  }
 },
 "nbformat": 4,
 "nbformat_minor": 2
}
